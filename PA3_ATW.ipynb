{
 "cells": [
  {
   "cell_type": "markdown",
   "id": "3183bbb3",
   "metadata": {},
   "source": [
    "# Assignment 3\n",
    "### Anthony Wayman \n",
    "### Version 1\n",
    "### Fall 2023"
   ]
  },
  {
   "cell_type": "markdown",
   "id": "0caa0591",
   "metadata": {},
   "source": [
    "### Task 1"
   ]
  },
  {
   "cell_type": "code",
   "execution_count": 14,
   "id": "e49e6ffa",
   "metadata": {},
   "outputs": [
    {
     "name": "stdout",
     "output_type": "stream",
     "text": [
      "Modified numbers list: ['5', '20', '30', '40', '50', '60']\n"
     ]
    }
   ],
   "source": [
    "numbers=['10','20','30','40','50']\n",
    "numbers.append('60')\n",
    "numbers.insert(0,'5')\n",
    "numbers.remove('10')\n",
    "print(f\"Modified numbers list: {numbers}\")"
   ]
  },
  {
   "cell_type": "markdown",
   "id": "30112b98",
   "metadata": {},
   "source": [
    "### Task 2"
   ]
  },
  {
   "cell_type": "code",
   "execution_count": 16,
   "id": "da5ad59d",
   "metadata": {},
   "outputs": [
    {
     "name": "stdout",
     "output_type": "stream",
     "text": [
      "The third day of the week: wednesday\n"
     ]
    }
   ],
   "source": [
    "days=('monday','tuesday','wednesday','thursday','friday','saturday','sunday')\n",
    "print(f\"The third day of the week: {days[2]}\")"
   ]
  },
  {
   "cell_type": "code",
   "execution_count": 17,
   "id": "cd16ff84",
   "metadata": {},
   "outputs": [],
   "source": [
    "# days[1]=\"funday\"\n",
    "# Error as tuples are immutable"
   ]
  },
  {
   "cell_type": "markdown",
   "id": "48036a86",
   "metadata": {},
   "source": [
    "### Task 3"
   ]
  },
  {
   "cell_type": "code",
   "execution_count": 20,
   "id": "a8c749ad",
   "metadata": {},
   "outputs": [
    {
     "name": "stdout",
     "output_type": "stream",
     "text": [
      "The letters: ['a', 'b', 'c', 'd', 'e', 'f', 'g', 'h', 'i', 'j', 'k', 'l', 'm', 'n', 'o', 'p', 'q', 'r', 's', 't', 'u', 'v', 'w', 'x', 'y', 'z']\n"
     ]
    }
   ],
   "source": [
    "letters=['a','b','c','d','e','f','g','h','i','j','k','l','m','n','o','p','q','r','s','t','u','v','w','x','y','z']\n",
    "print(f\"The letters: {letters}\")"
   ]
  },
  {
   "cell_type": "code",
   "execution_count": 29,
   "id": "6b37bafb",
   "metadata": {},
   "outputs": [
    {
     "name": "stdout",
     "output_type": "stream",
     "text": [
      "The reverse list: ['k', 'l', 'm', 'n', 'o', 'p']\n"
     ]
    }
   ],
   "source": [
    "letters.reverse()\n",
    "print(f\"The reverse list: {letters[10:16]}\")"
   ]
  },
  {
   "cell_type": "markdown",
   "id": "853a0333",
   "metadata": {},
   "source": [
    "### Task 4"
   ]
  },
  {
   "cell_type": "code",
   "execution_count": 32,
   "id": "8f1dd32d",
   "metadata": {},
   "outputs": [
    {
     "name": "stdout",
     "output_type": "stream",
     "text": [
      "First name:  Anthony\n",
      "Last name:  Wayman\n",
      "Age:  17\n",
      "Favorite subject:  film\n"
     ]
    }
   ],
   "source": [
    "student=('Anthony','Wayman',17,'film')\n",
    "first_name, last_name, age, subject = student\n",
    "print(\"First name: \", first_name)\n",
    "print(\"Last name: \", last_name)\n",
    "print(\"Age: \", age)\n",
    "print(\"Favorite subject: \", subject)"
   ]
  },
  {
   "cell_type": "markdown",
   "id": "c13e07ce",
   "metadata": {},
   "source": [
    "### Task 5"
   ]
  },
  {
   "cell_type": "code",
   "execution_count": 38,
   "id": "5bfbca77",
   "metadata": {},
   "outputs": [
    {
     "name": "stdout",
     "output_type": "stream",
     "text": [
      "5\n"
     ]
    }
   ],
   "source": [
    "shopping_list=('milk','cereal','cheese','bread','water')\n",
    "print(len(shopping_list))"
   ]
  },
  {
   "cell_type": "code",
   "execution_count": 54,
   "id": "fa6b2c71",
   "metadata": {},
   "outputs": [
    {
     "name": "stdout",
     "output_type": "stream",
     "text": [
      "['bread', 'cereal', 'milk', 'steak', 'water']\n",
      "<class 'tuple'>\n"
     ]
    }
   ],
   "source": [
    "shopping_list=('milk','cereal','cheese','bread','water')\n",
    "i = list(shopping_list)\n",
    "i[2]=\"steak\"\n",
    "shopping_list = tuple(i)\n",
    "\n",
    "sorted_list=sorted(shopping_list)\n",
    "\n",
    "print(sorted_list)\n",
    "print(type(shopping_list))"
   ]
  }
 ],
 "metadata": {
  "kernelspec": {
   "display_name": "Python 3 (ipykernel)",
   "language": "python",
   "name": "python3"
  },
  "language_info": {
   "codemirror_mode": {
    "name": "ipython",
    "version": 3
   },
   "file_extension": ".py",
   "mimetype": "text/x-python",
   "name": "python",
   "nbconvert_exporter": "python",
   "pygments_lexer": "ipython3",
   "version": "3.11.4"
  }
 },
 "nbformat": 4,
 "nbformat_minor": 5
}
